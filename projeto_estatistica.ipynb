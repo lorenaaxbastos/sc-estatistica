{
 "cells": [
  {
   "cell_type": "markdown",
   "id": "fda519c0-dc07-4a23-8c3c-752bd1d56309",
   "metadata": {},
   "source": [
    "<div style=\"background-color: lightgreen; padding: 18px;\">\n",
    "    <h1> Projeto| Estatística I\n",
    "</div>"
   ]
  },
  {
   "cell_type": "markdown",
   "id": "d1ff0af2-0397-4f49-86ef-0f8d68d2844f",
   "metadata": {},
   "source": [
    "### Esse projeto visa a aplicação dos conceitos e ferramental da Estatística desenvolvidos nesse módulo"
   ]
  },
  {
   "cell_type": "markdown",
   "id": "5019f294-5bf0-4b3f-8d1d-321281913316",
   "metadata": {},
   "source": [
    "###"
   ]
  },
  {
   "cell_type": "code",
   "execution_count": 1,
   "id": "ba41d2f8-faa5-4e3d-85de-36378a0c3999",
   "metadata": {},
   "outputs": [],
   "source": [
    "import math\n",
    "import pandas as pd\n",
    "import numpy as np\n",
    "import scipy.stats as stats\n",
    "from matplotlib import pyplot as plt"
   ]
  },
  {
   "cell_type": "markdown",
   "id": "beb81548-3d4c-4225-9821-0f18762d631a",
   "metadata": {},
   "source": [
    "###\n",
    "##### Para o desenvolvimento das atividades abaixo, o seu grupo pode escolher qualquer dataset que contenha uma coluna com valores inteiros."
   ]
  },
  {
   "cell_type": "code",
   "execution_count": 2,
   "id": "1583b6d5-7780-4647-bc49-fcdb31b87842",
   "metadata": {},
   "outputs": [],
   "source": [
    "df = pd.read_csv(\"athlete_events.csv\")"
   ]
  },
  {
   "cell_type": "code",
   "execution_count": 3,
   "id": "3f91f2d7-84e9-42dc-9963-bd9d606ff18a",
   "metadata": {},
   "outputs": [
    {
     "data": {
      "text/html": [
       "<div>\n",
       "<style scoped>\n",
       "    .dataframe tbody tr th:only-of-type {\n",
       "        vertical-align: middle;\n",
       "    }\n",
       "\n",
       "    .dataframe tbody tr th {\n",
       "        vertical-align: top;\n",
       "    }\n",
       "\n",
       "    .dataframe thead th {\n",
       "        text-align: right;\n",
       "    }\n",
       "</style>\n",
       "<table border=\"1\" class=\"dataframe\">\n",
       "  <thead>\n",
       "    <tr style=\"text-align: right;\">\n",
       "      <th></th>\n",
       "      <th>ID</th>\n",
       "      <th>Name</th>\n",
       "      <th>Sex</th>\n",
       "      <th>Age</th>\n",
       "      <th>Height</th>\n",
       "      <th>Weight</th>\n",
       "      <th>Team</th>\n",
       "      <th>NOC</th>\n",
       "      <th>Games</th>\n",
       "      <th>Year</th>\n",
       "      <th>Season</th>\n",
       "      <th>City</th>\n",
       "      <th>Sport</th>\n",
       "      <th>Event</th>\n",
       "      <th>Medal</th>\n",
       "    </tr>\n",
       "  </thead>\n",
       "  <tbody>\n",
       "    <tr>\n",
       "      <th>0</th>\n",
       "      <td>1</td>\n",
       "      <td>A Dijiang</td>\n",
       "      <td>M</td>\n",
       "      <td>24.0</td>\n",
       "      <td>180.0</td>\n",
       "      <td>80.0</td>\n",
       "      <td>China</td>\n",
       "      <td>CHN</td>\n",
       "      <td>1992 Summer</td>\n",
       "      <td>1992</td>\n",
       "      <td>Summer</td>\n",
       "      <td>Barcelona</td>\n",
       "      <td>Basketball</td>\n",
       "      <td>Basketball Men's Basketball</td>\n",
       "      <td>NaN</td>\n",
       "    </tr>\n",
       "    <tr>\n",
       "      <th>1</th>\n",
       "      <td>2</td>\n",
       "      <td>A Lamusi</td>\n",
       "      <td>M</td>\n",
       "      <td>23.0</td>\n",
       "      <td>170.0</td>\n",
       "      <td>60.0</td>\n",
       "      <td>China</td>\n",
       "      <td>CHN</td>\n",
       "      <td>2012 Summer</td>\n",
       "      <td>2012</td>\n",
       "      <td>Summer</td>\n",
       "      <td>London</td>\n",
       "      <td>Judo</td>\n",
       "      <td>Judo Men's Extra-Lightweight</td>\n",
       "      <td>NaN</td>\n",
       "    </tr>\n",
       "    <tr>\n",
       "      <th>2</th>\n",
       "      <td>3</td>\n",
       "      <td>Gunnar Nielsen Aaby</td>\n",
       "      <td>M</td>\n",
       "      <td>24.0</td>\n",
       "      <td>NaN</td>\n",
       "      <td>NaN</td>\n",
       "      <td>Denmark</td>\n",
       "      <td>DEN</td>\n",
       "      <td>1920 Summer</td>\n",
       "      <td>1920</td>\n",
       "      <td>Summer</td>\n",
       "      <td>Antwerpen</td>\n",
       "      <td>Football</td>\n",
       "      <td>Football Men's Football</td>\n",
       "      <td>NaN</td>\n",
       "    </tr>\n",
       "    <tr>\n",
       "      <th>3</th>\n",
       "      <td>4</td>\n",
       "      <td>Edgar Lindenau Aabye</td>\n",
       "      <td>M</td>\n",
       "      <td>34.0</td>\n",
       "      <td>NaN</td>\n",
       "      <td>NaN</td>\n",
       "      <td>Denmark/Sweden</td>\n",
       "      <td>DEN</td>\n",
       "      <td>1900 Summer</td>\n",
       "      <td>1900</td>\n",
       "      <td>Summer</td>\n",
       "      <td>Paris</td>\n",
       "      <td>Tug-Of-War</td>\n",
       "      <td>Tug-Of-War Men's Tug-Of-War</td>\n",
       "      <td>Gold</td>\n",
       "    </tr>\n",
       "    <tr>\n",
       "      <th>4</th>\n",
       "      <td>5</td>\n",
       "      <td>Christine Jacoba Aaftink</td>\n",
       "      <td>F</td>\n",
       "      <td>21.0</td>\n",
       "      <td>185.0</td>\n",
       "      <td>82.0</td>\n",
       "      <td>Netherlands</td>\n",
       "      <td>NED</td>\n",
       "      <td>1988 Winter</td>\n",
       "      <td>1988</td>\n",
       "      <td>Winter</td>\n",
       "      <td>Calgary</td>\n",
       "      <td>Speed Skating</td>\n",
       "      <td>Speed Skating Women's 500 metres</td>\n",
       "      <td>NaN</td>\n",
       "    </tr>\n",
       "    <tr>\n",
       "      <th>5</th>\n",
       "      <td>5</td>\n",
       "      <td>Christine Jacoba Aaftink</td>\n",
       "      <td>F</td>\n",
       "      <td>21.0</td>\n",
       "      <td>185.0</td>\n",
       "      <td>82.0</td>\n",
       "      <td>Netherlands</td>\n",
       "      <td>NED</td>\n",
       "      <td>1988 Winter</td>\n",
       "      <td>1988</td>\n",
       "      <td>Winter</td>\n",
       "      <td>Calgary</td>\n",
       "      <td>Speed Skating</td>\n",
       "      <td>Speed Skating Women's 1,000 metres</td>\n",
       "      <td>NaN</td>\n",
       "    </tr>\n",
       "    <tr>\n",
       "      <th>6</th>\n",
       "      <td>5</td>\n",
       "      <td>Christine Jacoba Aaftink</td>\n",
       "      <td>F</td>\n",
       "      <td>25.0</td>\n",
       "      <td>185.0</td>\n",
       "      <td>82.0</td>\n",
       "      <td>Netherlands</td>\n",
       "      <td>NED</td>\n",
       "      <td>1992 Winter</td>\n",
       "      <td>1992</td>\n",
       "      <td>Winter</td>\n",
       "      <td>Albertville</td>\n",
       "      <td>Speed Skating</td>\n",
       "      <td>Speed Skating Women's 500 metres</td>\n",
       "      <td>NaN</td>\n",
       "    </tr>\n",
       "    <tr>\n",
       "      <th>7</th>\n",
       "      <td>5</td>\n",
       "      <td>Christine Jacoba Aaftink</td>\n",
       "      <td>F</td>\n",
       "      <td>25.0</td>\n",
       "      <td>185.0</td>\n",
       "      <td>82.0</td>\n",
       "      <td>Netherlands</td>\n",
       "      <td>NED</td>\n",
       "      <td>1992 Winter</td>\n",
       "      <td>1992</td>\n",
       "      <td>Winter</td>\n",
       "      <td>Albertville</td>\n",
       "      <td>Speed Skating</td>\n",
       "      <td>Speed Skating Women's 1,000 metres</td>\n",
       "      <td>NaN</td>\n",
       "    </tr>\n",
       "    <tr>\n",
       "      <th>8</th>\n",
       "      <td>5</td>\n",
       "      <td>Christine Jacoba Aaftink</td>\n",
       "      <td>F</td>\n",
       "      <td>27.0</td>\n",
       "      <td>185.0</td>\n",
       "      <td>82.0</td>\n",
       "      <td>Netherlands</td>\n",
       "      <td>NED</td>\n",
       "      <td>1994 Winter</td>\n",
       "      <td>1994</td>\n",
       "      <td>Winter</td>\n",
       "      <td>Lillehammer</td>\n",
       "      <td>Speed Skating</td>\n",
       "      <td>Speed Skating Women's 500 metres</td>\n",
       "      <td>NaN</td>\n",
       "    </tr>\n",
       "    <tr>\n",
       "      <th>9</th>\n",
       "      <td>5</td>\n",
       "      <td>Christine Jacoba Aaftink</td>\n",
       "      <td>F</td>\n",
       "      <td>27.0</td>\n",
       "      <td>185.0</td>\n",
       "      <td>82.0</td>\n",
       "      <td>Netherlands</td>\n",
       "      <td>NED</td>\n",
       "      <td>1994 Winter</td>\n",
       "      <td>1994</td>\n",
       "      <td>Winter</td>\n",
       "      <td>Lillehammer</td>\n",
       "      <td>Speed Skating</td>\n",
       "      <td>Speed Skating Women's 1,000 metres</td>\n",
       "      <td>NaN</td>\n",
       "    </tr>\n",
       "  </tbody>\n",
       "</table>\n",
       "</div>"
      ],
      "text/plain": [
       "   ID                      Name Sex   Age  Height  Weight            Team  \\\n",
       "0   1                 A Dijiang   M  24.0   180.0    80.0           China   \n",
       "1   2                  A Lamusi   M  23.0   170.0    60.0           China   \n",
       "2   3       Gunnar Nielsen Aaby   M  24.0     NaN     NaN         Denmark   \n",
       "3   4      Edgar Lindenau Aabye   M  34.0     NaN     NaN  Denmark/Sweden   \n",
       "4   5  Christine Jacoba Aaftink   F  21.0   185.0    82.0     Netherlands   \n",
       "5   5  Christine Jacoba Aaftink   F  21.0   185.0    82.0     Netherlands   \n",
       "6   5  Christine Jacoba Aaftink   F  25.0   185.0    82.0     Netherlands   \n",
       "7   5  Christine Jacoba Aaftink   F  25.0   185.0    82.0     Netherlands   \n",
       "8   5  Christine Jacoba Aaftink   F  27.0   185.0    82.0     Netherlands   \n",
       "9   5  Christine Jacoba Aaftink   F  27.0   185.0    82.0     Netherlands   \n",
       "\n",
       "   NOC        Games  Year  Season         City          Sport  \\\n",
       "0  CHN  1992 Summer  1992  Summer    Barcelona     Basketball   \n",
       "1  CHN  2012 Summer  2012  Summer       London           Judo   \n",
       "2  DEN  1920 Summer  1920  Summer    Antwerpen       Football   \n",
       "3  DEN  1900 Summer  1900  Summer        Paris     Tug-Of-War   \n",
       "4  NED  1988 Winter  1988  Winter      Calgary  Speed Skating   \n",
       "5  NED  1988 Winter  1988  Winter      Calgary  Speed Skating   \n",
       "6  NED  1992 Winter  1992  Winter  Albertville  Speed Skating   \n",
       "7  NED  1992 Winter  1992  Winter  Albertville  Speed Skating   \n",
       "8  NED  1994 Winter  1994  Winter  Lillehammer  Speed Skating   \n",
       "9  NED  1994 Winter  1994  Winter  Lillehammer  Speed Skating   \n",
       "\n",
       "                                Event Medal  \n",
       "0         Basketball Men's Basketball   NaN  \n",
       "1        Judo Men's Extra-Lightweight   NaN  \n",
       "2             Football Men's Football   NaN  \n",
       "3         Tug-Of-War Men's Tug-Of-War  Gold  \n",
       "4    Speed Skating Women's 500 metres   NaN  \n",
       "5  Speed Skating Women's 1,000 metres   NaN  \n",
       "6    Speed Skating Women's 500 metres   NaN  \n",
       "7  Speed Skating Women's 1,000 metres   NaN  \n",
       "8    Speed Skating Women's 500 metres   NaN  \n",
       "9  Speed Skating Women's 1,000 metres   NaN  "
      ]
     },
     "execution_count": 3,
     "metadata": {},
     "output_type": "execute_result"
    }
   ],
   "source": [
    "df.head(10)"
   ]
  },
  {
   "cell_type": "markdown",
   "id": "ec6dc06e-8c57-48ce-8e31-dc6eff735bb1",
   "metadata": {},
   "source": [
    "###"
   ]
  },
  {
   "cell_type": "markdown",
   "id": "7b7102fb-7e17-472a-b346-97bad8bcbbe8",
   "metadata": {},
   "source": [
    "__1) Em algum dataset, classifique as suas colunas em Quantitativa Discreta, Quantitiva Contínua, Qualitativa Ordinal ou Qualitativa Nominal.__\n"
   ]
  },
  {
   "cell_type": "markdown",
   "id": "ec920805-0c8b-4737-aab7-83928643f00f",
   "metadata": {},
   "source": [
    "- **ID:** Qualitativa nominal\n",
    "- **Name:** Qualitativa nominal\n",
    "- **Sex:** Qualitativa nominal\n",
    "- **Age:** Quantitativa discreta\n",
    "- **Height:** Quantitativa contínua\n",
    "- **Weight:** Quantitativa contínua\n",
    "- **Team:** Qualitativa nominal\n",
    "- **NOC:** Qualitativa nominal\n",
    "- **Games:** Qualitativa ordinal\n",
    "- **Year:** Qualitativa ordinal\n",
    "- **Season:** Qualitativa ordinal\n",
    "- **City:** Qualitativa nominal\n",
    "- **Sport:** Qualitativa nominal\n",
    "- **Event:** Qualitativa nominal\n",
    "- **Medal:** Qualitativa ordinal"
   ]
  },
  {
   "cell_type": "markdown",
   "id": "569db9f3-0491-484d-9a6d-6d918564f7e0",
   "metadata": {},
   "source": [
    "###"
   ]
  },
  {
   "cell_type": "markdown",
   "id": "78792baf-97bd-4f56-b6b7-171f1c3cb174",
   "metadata": {},
   "source": [
    "__2) Com o mesmo dataset, construir a distribuição de probabilidade de uma feature com valores inteiros. Escrever uma função para calcular a Esperança e outra função para calcular a Variância dessa variável aleatória. Compare o resultado de sua função com os resultados de alguma nativa do Python (há muitos módulos/bibliotecas que calculam esses parâmetros). Construa uma função que faça o papel da cdf() e outra função com o papel da sf(). Desafio extra: construir funções que fazem o papel da ppf() e da isf() .__'.f'."
   ]
  },
  {
   "cell_type": "code",
   "execution_count": 4,
   "id": "5af16634-7c7a-4d46-aa87-029408a348c2",
   "metadata": {
    "scrolled": true
   },
   "outputs": [
    {
     "name": "stdout",
     "output_type": "stream",
     "text": [
      "Distribuição de frequências\n"
     ]
    },
    {
     "data": {
      "text/plain": [
       "Age\n",
       "10.0      1\n",
       "11.0     13\n",
       "12.0     39\n",
       "13.0    187\n",
       "14.0    837\n",
       "       ... \n",
       "81.0      2\n",
       "84.0      1\n",
       "88.0      3\n",
       "96.0      1\n",
       "97.0      1\n",
       "Name: count, Length: 74, dtype: int64"
      ]
     },
     "metadata": {},
     "output_type": "display_data"
    }
   ],
   "source": [
    "distribuicao_frequencias = df[\"Age\"].value_counts().sort_index()\n",
    "\n",
    "print(\"Distribuição de frequências\")\n",
    "display(distribuicao_frequencias)"
   ]
  },
  {
   "cell_type": "code",
   "execution_count": 5,
   "id": "ab3debb9-b4d4-448a-805a-677ea155db97",
   "metadata": {
    "scrolled": true
   },
   "outputs": [
    {
     "name": "stdout",
     "output_type": "stream",
     "text": [
      "Distribuição de probabilidades\n"
     ]
    },
    {
     "data": {
      "text/plain": [
       "Age\n",
       "10.0    0.000004\n",
       "11.0    0.000050\n",
       "12.0    0.000149\n",
       "13.0    0.000715\n",
       "14.0    0.003199\n",
       "          ...   \n",
       "81.0    0.000008\n",
       "84.0    0.000004\n",
       "88.0    0.000011\n",
       "96.0    0.000004\n",
       "97.0    0.000004\n",
       "Name: count, Length: 74, dtype: float64"
      ]
     },
     "metadata": {},
     "output_type": "display_data"
    }
   ],
   "source": [
    "distribuicao_probabilidades = distribuicao_frequencias / distribuicao_frequencias.sum()\n",
    "\n",
    "print(\"Distribuição de probabilidades\")\n",
    "display(distribuicao_probabilidades)"
   ]
  },
  {
   "cell_type": "code",
   "execution_count": 6,
   "id": "6efb4d95-57a4-436d-a9e6-a097b8a3c90a",
   "metadata": {},
   "outputs": [
    {
     "data": {
      "image/png": "[encoded data removed]",
      "text/plain": [
       "<Figure size 1000x600 with 1 Axes>"
      ]
     },
     "metadata": {},
     "output_type": "display_data"
    }
   ],
   "source": [
    "plt.figure(figsize=(10,6))\n",
    "plt.bar(distribuicao_probabilidades.index, distribuicao_probabilidades.values)\n",
    "\n",
    "plt.title('Distribuição de probabilidades - Idades dos atletas olímpicos de 1896-2016', fontweight=1000, fontsize=14, y=1.05)\n",
    "plt.xlabel('Idades')\n",
    "plt.ylabel('Probabilidades')\n",
    "\n",
    "plt.show()"
   ]
  },
  {
   "cell_type": "code",
   "execution_count": 7,
   "id": "39899828-e956-4ece-8558-b4c87aa5c37a",
   "metadata": {},
   "outputs": [],
   "source": [
    "X = distribuicao_probabilidades.index\n",
    "p = distribuicao_probabilidades.values"
   ]
  },
  {
   "cell_type": "code",
   "execution_count": 8,
   "id": "af203ddd-6358-49e6-bf90-84743fbb1bb4",
   "metadata": {},
   "outputs": [
    {
     "name": "stdout",
     "output_type": "stream",
     "text": [
      "Comparando os resultados:\n",
      "\n",
      "Esperança 25.56 (Python)\n",
      "Variância 40.88 (Python)\n",
      "\n",
      "Esperança 25.56 (NumPy)\n",
      "Variância 40.88 (NumPy)\n"
     ]
    }
   ],
   "source": [
    "# funções esperança e variância\n",
    "def esperanca(X, p):\n",
    "    return sum(xi * pi for xi, pi in zip(X, p))\n",
    " \n",
    "def variancia(X, p):\n",
    "    return esperanca([xi ** 2 for xi in X], p) - esperanca(X, p) ** 2\n",
    "\n",
    "esp = esperanca(X, p)\n",
    "var = variancia(X, p)\n",
    "\n",
    "# comparando resultados (funções esperança e variância x numpy)\n",
    "print(f\"\"\"Comparando os resultados:\n",
    "\n",
    "Esperança {round(esp, 2)} (Python)\n",
    "Variância {round(var, 2)} (Python)\n",
    "\n",
    "Esperança {np.round(np.dot(X, p), 2)} (NumPy)\n",
    "Variância {np.round(np.dot(np.power(X, 2), p) - np.power(np.dot(X, p), 2), 2)} (NumPy)\"\"\")"
   ]
  },
  {
   "cell_type": "code",
   "execution_count": 9,
   "id": "7bffb872-ae23-435e-83ef-3dfd3a39aab4",
   "metadata": {},
   "outputs": [
    {
     "name": "stdout",
     "output_type": "stream",
     "text": [
      "Comparando os resultados:\n",
      "\n",
      "cdf 0.5765167671856964 (Python)\n",
      "sf 0.42348323281430356 (Python)\n",
      "ppf 25.0 (Python)\n",
      "isf 25.0 (Python)\n",
      "\n",
      "cdf 0.5765167671856964 (SciPy)\n",
      "sf 0.42348323281430356 (SciPy)\n",
      "ppf 25.0 (SciPy)\n",
      "isf 25.0 (SciPy)\n"
     ]
    }
   ],
   "source": [
    "# funções cdf, sf, ppf e isf\n",
    "def cdf(X, p, xi):\n",
    "    acum = 0\n",
    "    for i, el in enumerate(sorted(X)):\n",
    "        if el <= xi:\n",
    "            acum += p[i]\n",
    "        else:\n",
    "            break\n",
    "    \n",
    "    return acum\n",
    "\n",
    "def sf(X, p, xi):\n",
    "    return 1 - cdf(X, p, xi)\n",
    "\n",
    "def ppf(X, p, pi):\n",
    "    z_proximo = 0\n",
    "    acum = 0\n",
    "    for i, el in enumerate(p):\n",
    "        acum += el\n",
    "        if acum <= pi:\n",
    "            z_proximo = X[i]\n",
    "        else:\n",
    "            break\n",
    "\n",
    "    return z_proximo\n",
    "\n",
    "def isf(X, p, pi):\n",
    "    p = p[::-1]\n",
    "    X = X[::-1]\n",
    "    z_proximo = 0\n",
    "    acum = 1\n",
    "    for i, el in enumerate(p):\n",
    "        acum -= el\n",
    "        if acum >= pi:\n",
    "            z_proximo = X[i]\n",
    "        else:\n",
    "            break\n",
    "    \n",
    "    return z_proximo\n",
    "\n",
    "# comparando resultados (funções cdf, sf, ppf e isf x scipy)\n",
    "print(f\"\"\"Comparando os resultados:\n",
    "\n",
    "cdf {cdf(X, p, 25)} (Python)\n",
    "sf {sf(X, p, 25)} (Python)\n",
    "ppf {ppf(X, p, 0.5765167671856964)} (Python)\n",
    "isf {isf(X, p, 0.42348323281430356)} (Python)\n",
    "\n",
    "cdf {stats.rv_discrete(values=(X, p)).cdf(25)} (SciPy)\n",
    "sf {stats.rv_discrete(values=(X, p)).sf(25)} (SciPy)\n",
    "ppf {stats.rv_discrete(values=(X, p)).ppf(0.5765167671856964)} (SciPy)\n",
    "isf {stats.rv_discrete(values=(X, p)).isf(0.42348323281430356)} (SciPy)\"\"\")"
   ]
  },
  {
   "cell_type": "markdown",
   "id": "baf3001e-0e72-4199-af1e-3cb187d3d8a6",
   "metadata": {},
   "source": [
    "###"
   ]
  },
  {
   "cell_type": "markdown",
   "id": "6821c75f-1bd1-4911-a71f-a9802a85203c",
   "metadata": {},
   "source": [
    " __3) Utilizando a variável aleatória do exercício anterior, construir a distribuição das médias amostrais para ilustrar/comprovar o Teorema do Limite Central. Comparar a média e a variância com o exercício anterior. Utilizar o teste de normalidade para verificar se essa distribuição (das médias amostrais) é normal ou  não.__\r\n"
   ]
  },
  {
   "cell_type": "code",
   "execution_count": 129,
   "id": "7f7e1854-6d31-43d2-9751-a7feaa93b3c6",
   "metadata": {},
   "outputs": [],
   "source": [
    "n = 500\n",
    "n_amostras = 3000\n",
    "amostra = [df[\"Age\"].sample(n).reset_index(drop=True) for i in range(n_amostras)]\n",
    "amostras = pd.concat(amostra, axis=1)\n",
    "amostras.columns = [f\"Amostra {(i + 1)}\" for i in range(n_amostras)]"
   ]
  },
  {
   "cell_type": "code",
   "execution_count": 130,
   "id": "60f75df3-8a0c-414c-9d20-f6cde0c2aaee",
   "metadata": {},
   "outputs": [
    {
     "data": {
      "text/html": [
       "<div>\n",
       "<style scoped>\n",
       "    .dataframe tbody tr th:only-of-type {\n",
       "        vertical-align: middle;\n",
       "    }\n",
       "\n",
       "    .dataframe tbody tr th {\n",
       "        vertical-align: top;\n",
       "    }\n",
       "\n",
       "    .dataframe thead th {\n",
       "        text-align: right;\n",
       "    }\n",
       "</style>\n",
       "<table border=\"1\" class=\"dataframe\">\n",
       "  <thead>\n",
       "    <tr style=\"text-align: right;\">\n",
       "      <th></th>\n",
       "      <th>Amostra 1</th>\n",
       "      <th>Amostra 2</th>\n",
       "      <th>Amostra 3</th>\n",
       "      <th>Amostra 4</th>\n",
       "      <th>Amostra 5</th>\n",
       "      <th>Amostra 6</th>\n",
       "      <th>Amostra 7</th>\n",
       "      <th>Amostra 8</th>\n",
       "      <th>Amostra 9</th>\n",
       "      <th>Amostra 10</th>\n",
       "      <th>...</th>\n",
       "      <th>Amostra 2991</th>\n",
       "      <th>Amostra 2992</th>\n",
       "      <th>Amostra 2993</th>\n",
       "      <th>Amostra 2994</th>\n",
       "      <th>Amostra 2995</th>\n",
       "      <th>Amostra 2996</th>\n",
       "      <th>Amostra 2997</th>\n",
       "      <th>Amostra 2998</th>\n",
       "      <th>Amostra 2999</th>\n",
       "      <th>Amostra 3000</th>\n",
       "    </tr>\n",
       "  </thead>\n",
       "  <tbody>\n",
       "    <tr>\n",
       "      <th>0</th>\n",
       "      <td>22.0</td>\n",
       "      <td>20.0</td>\n",
       "      <td>44.0</td>\n",
       "      <td>22.0</td>\n",
       "      <td>21.0</td>\n",
       "      <td>37.0</td>\n",
       "      <td>21.0</td>\n",
       "      <td>20.0</td>\n",
       "      <td>20.0</td>\n",
       "      <td>33.0</td>\n",
       "      <td>...</td>\n",
       "      <td>26.0</td>\n",
       "      <td>22.0</td>\n",
       "      <td>21.0</td>\n",
       "      <td>19.0</td>\n",
       "      <td>26.0</td>\n",
       "      <td>25.0</td>\n",
       "      <td>26.0</td>\n",
       "      <td>19.0</td>\n",
       "      <td>26.0</td>\n",
       "      <td>21.0</td>\n",
       "    </tr>\n",
       "    <tr>\n",
       "      <th>1</th>\n",
       "      <td>26.0</td>\n",
       "      <td>32.0</td>\n",
       "      <td>26.0</td>\n",
       "      <td>26.0</td>\n",
       "      <td>26.0</td>\n",
       "      <td>41.0</td>\n",
       "      <td>50.0</td>\n",
       "      <td>32.0</td>\n",
       "      <td>20.0</td>\n",
       "      <td>26.0</td>\n",
       "      <td>...</td>\n",
       "      <td>23.0</td>\n",
       "      <td>29.0</td>\n",
       "      <td>38.0</td>\n",
       "      <td>23.0</td>\n",
       "      <td>NaN</td>\n",
       "      <td>22.0</td>\n",
       "      <td>22.0</td>\n",
       "      <td>23.0</td>\n",
       "      <td>33.0</td>\n",
       "      <td>28.0</td>\n",
       "    </tr>\n",
       "    <tr>\n",
       "      <th>2</th>\n",
       "      <td>30.0</td>\n",
       "      <td>22.0</td>\n",
       "      <td>23.0</td>\n",
       "      <td>30.0</td>\n",
       "      <td>23.0</td>\n",
       "      <td>20.0</td>\n",
       "      <td>24.0</td>\n",
       "      <td>26.0</td>\n",
       "      <td>24.0</td>\n",
       "      <td>28.0</td>\n",
       "      <td>...</td>\n",
       "      <td>21.0</td>\n",
       "      <td>21.0</td>\n",
       "      <td>40.0</td>\n",
       "      <td>25.0</td>\n",
       "      <td>20.0</td>\n",
       "      <td>23.0</td>\n",
       "      <td>19.0</td>\n",
       "      <td>20.0</td>\n",
       "      <td>19.0</td>\n",
       "      <td>19.0</td>\n",
       "    </tr>\n",
       "    <tr>\n",
       "      <th>3</th>\n",
       "      <td>53.0</td>\n",
       "      <td>21.0</td>\n",
       "      <td>24.0</td>\n",
       "      <td>25.0</td>\n",
       "      <td>49.0</td>\n",
       "      <td>41.0</td>\n",
       "      <td>21.0</td>\n",
       "      <td>26.0</td>\n",
       "      <td>27.0</td>\n",
       "      <td>23.0</td>\n",
       "      <td>...</td>\n",
       "      <td>26.0</td>\n",
       "      <td>20.0</td>\n",
       "      <td>22.0</td>\n",
       "      <td>29.0</td>\n",
       "      <td>23.0</td>\n",
       "      <td>21.0</td>\n",
       "      <td>24.0</td>\n",
       "      <td>21.0</td>\n",
       "      <td>26.0</td>\n",
       "      <td>25.0</td>\n",
       "    </tr>\n",
       "    <tr>\n",
       "      <th>4</th>\n",
       "      <td>18.0</td>\n",
       "      <td>32.0</td>\n",
       "      <td>32.0</td>\n",
       "      <td>23.0</td>\n",
       "      <td>18.0</td>\n",
       "      <td>20.0</td>\n",
       "      <td>23.0</td>\n",
       "      <td>18.0</td>\n",
       "      <td>25.0</td>\n",
       "      <td>24.0</td>\n",
       "      <td>...</td>\n",
       "      <td>28.0</td>\n",
       "      <td>26.0</td>\n",
       "      <td>17.0</td>\n",
       "      <td>46.0</td>\n",
       "      <td>22.0</td>\n",
       "      <td>23.0</td>\n",
       "      <td>24.0</td>\n",
       "      <td>27.0</td>\n",
       "      <td>22.0</td>\n",
       "      <td>26.0</td>\n",
       "    </tr>\n",
       "    <tr>\n",
       "      <th>...</th>\n",
       "      <td>...</td>\n",
       "      <td>...</td>\n",
       "      <td>...</td>\n",
       "      <td>...</td>\n",
       "      <td>...</td>\n",
       "      <td>...</td>\n",
       "      <td>...</td>\n",
       "      <td>...</td>\n",
       "      <td>...</td>\n",
       "      <td>...</td>\n",
       "      <td>...</td>\n",
       "      <td>...</td>\n",
       "      <td>...</td>\n",
       "      <td>...</td>\n",
       "      <td>...</td>\n",
       "      <td>...</td>\n",
       "      <td>...</td>\n",
       "      <td>...</td>\n",
       "      <td>...</td>\n",
       "      <td>...</td>\n",
       "      <td>...</td>\n",
       "    </tr>\n",
       "    <tr>\n",
       "      <th>495</th>\n",
       "      <td>20.0</td>\n",
       "      <td>21.0</td>\n",
       "      <td>21.0</td>\n",
       "      <td>32.0</td>\n",
       "      <td>51.0</td>\n",
       "      <td>30.0</td>\n",
       "      <td>17.0</td>\n",
       "      <td>55.0</td>\n",
       "      <td>22.0</td>\n",
       "      <td>60.0</td>\n",
       "      <td>...</td>\n",
       "      <td>17.0</td>\n",
       "      <td>19.0</td>\n",
       "      <td>23.0</td>\n",
       "      <td>27.0</td>\n",
       "      <td>42.0</td>\n",
       "      <td>20.0</td>\n",
       "      <td>22.0</td>\n",
       "      <td>NaN</td>\n",
       "      <td>27.0</td>\n",
       "      <td>29.0</td>\n",
       "    </tr>\n",
       "    <tr>\n",
       "      <th>496</th>\n",
       "      <td>18.0</td>\n",
       "      <td>40.0</td>\n",
       "      <td>NaN</td>\n",
       "      <td>25.0</td>\n",
       "      <td>22.0</td>\n",
       "      <td>20.0</td>\n",
       "      <td>24.0</td>\n",
       "      <td>20.0</td>\n",
       "      <td>20.0</td>\n",
       "      <td>34.0</td>\n",
       "      <td>...</td>\n",
       "      <td>23.0</td>\n",
       "      <td>19.0</td>\n",
       "      <td>22.0</td>\n",
       "      <td>23.0</td>\n",
       "      <td>21.0</td>\n",
       "      <td>33.0</td>\n",
       "      <td>24.0</td>\n",
       "      <td>20.0</td>\n",
       "      <td>27.0</td>\n",
       "      <td>23.0</td>\n",
       "    </tr>\n",
       "    <tr>\n",
       "      <th>497</th>\n",
       "      <td>21.0</td>\n",
       "      <td>19.0</td>\n",
       "      <td>19.0</td>\n",
       "      <td>21.0</td>\n",
       "      <td>24.0</td>\n",
       "      <td>22.0</td>\n",
       "      <td>45.0</td>\n",
       "      <td>23.0</td>\n",
       "      <td>30.0</td>\n",
       "      <td>30.0</td>\n",
       "      <td>...</td>\n",
       "      <td>25.0</td>\n",
       "      <td>29.0</td>\n",
       "      <td>22.0</td>\n",
       "      <td>28.0</td>\n",
       "      <td>24.0</td>\n",
       "      <td>22.0</td>\n",
       "      <td>23.0</td>\n",
       "      <td>16.0</td>\n",
       "      <td>26.0</td>\n",
       "      <td>25.0</td>\n",
       "    </tr>\n",
       "    <tr>\n",
       "      <th>498</th>\n",
       "      <td>30.0</td>\n",
       "      <td>24.0</td>\n",
       "      <td>31.0</td>\n",
       "      <td>23.0</td>\n",
       "      <td>25.0</td>\n",
       "      <td>23.0</td>\n",
       "      <td>32.0</td>\n",
       "      <td>24.0</td>\n",
       "      <td>19.0</td>\n",
       "      <td>24.0</td>\n",
       "      <td>...</td>\n",
       "      <td>22.0</td>\n",
       "      <td>22.0</td>\n",
       "      <td>19.0</td>\n",
       "      <td>26.0</td>\n",
       "      <td>25.0</td>\n",
       "      <td>23.0</td>\n",
       "      <td>27.0</td>\n",
       "      <td>24.0</td>\n",
       "      <td>20.0</td>\n",
       "      <td>23.0</td>\n",
       "    </tr>\n",
       "    <tr>\n",
       "      <th>499</th>\n",
       "      <td>31.0</td>\n",
       "      <td>23.0</td>\n",
       "      <td>21.0</td>\n",
       "      <td>33.0</td>\n",
       "      <td>23.0</td>\n",
       "      <td>16.0</td>\n",
       "      <td>28.0</td>\n",
       "      <td>17.0</td>\n",
       "      <td>21.0</td>\n",
       "      <td>29.0</td>\n",
       "      <td>...</td>\n",
       "      <td>21.0</td>\n",
       "      <td>21.0</td>\n",
       "      <td>22.0</td>\n",
       "      <td>25.0</td>\n",
       "      <td>21.0</td>\n",
       "      <td>25.0</td>\n",
       "      <td>17.0</td>\n",
       "      <td>29.0</td>\n",
       "      <td>24.0</td>\n",
       "      <td>24.0</td>\n",
       "    </tr>\n",
       "  </tbody>\n",
       "</table>\n",
       "<p>500 rows × 3000 columns</p>\n",
       "</div>"
      ],
      "text/plain": [
       "     Amostra 1  Amostra 2  Amostra 3  Amostra 4  Amostra 5  Amostra 6  \\\n",
       "0         22.0       20.0       44.0       22.0       21.0       37.0   \n",
       "1         26.0       32.0       26.0       26.0       26.0       41.0   \n",
       "2         30.0       22.0       23.0       30.0       23.0       20.0   \n",
       "3         53.0       21.0       24.0       25.0       49.0       41.0   \n",
       "4         18.0       32.0       32.0       23.0       18.0       20.0   \n",
       "..         ...        ...        ...        ...        ...        ...   \n",
       "495       20.0       21.0       21.0       32.0       51.0       30.0   \n",
       "496       18.0       40.0        NaN       25.0       22.0       20.0   \n",
       "497       21.0       19.0       19.0       21.0       24.0       22.0   \n",
       "498       30.0       24.0       31.0       23.0       25.0       23.0   \n",
       "499       31.0       23.0       21.0       33.0       23.0       16.0   \n",
       "\n",
       "     Amostra 7  Amostra 8  Amostra 9  Amostra 10  ...  Amostra 2991  \\\n",
       "0         21.0       20.0       20.0        33.0  ...          26.0   \n",
       "1         50.0       32.0       20.0        26.0  ...          23.0   \n",
       "2         24.0       26.0       24.0        28.0  ...          21.0   \n",
       "3         21.0       26.0       27.0        23.0  ...          26.0   \n",
       "4         23.0       18.0       25.0        24.0  ...          28.0   \n",
       "..         ...        ...        ...         ...  ...           ...   \n",
       "495       17.0       55.0       22.0        60.0  ...          17.0   \n",
       "496       24.0       20.0       20.0        34.0  ...          23.0   \n",
       "497       45.0       23.0       30.0        30.0  ...          25.0   \n",
       "498       32.0       24.0       19.0        24.0  ...          22.0   \n",
       "499       28.0       17.0       21.0        29.0  ...          21.0   \n",
       "\n",
       "     Amostra 2992  Amostra 2993  Amostra 2994  Amostra 2995  Amostra 2996  \\\n",
       "0            22.0          21.0          19.0          26.0          25.0   \n",
       "1            29.0          38.0          23.0           NaN          22.0   \n",
       "2            21.0          40.0          25.0          20.0          23.0   \n",
       "3            20.0          22.0          29.0          23.0          21.0   \n",
       "4            26.0          17.0          46.0          22.0          23.0   \n",
       "..            ...           ...           ...           ...           ...   \n",
       "495          19.0          23.0          27.0          42.0          20.0   \n",
       "496          19.0          22.0          23.0          21.0          33.0   \n",
       "497          29.0          22.0          28.0          24.0          22.0   \n",
       "498          22.0          19.0          26.0          25.0          23.0   \n",
       "499          21.0          22.0          25.0          21.0          25.0   \n",
       "\n",
       "     Amostra 2997  Amostra 2998  Amostra 2999  Amostra 3000  \n",
       "0            26.0          19.0          26.0          21.0  \n",
       "1            22.0          23.0          33.0          28.0  \n",
       "2            19.0          20.0          19.0          19.0  \n",
       "3            24.0          21.0          26.0          25.0  \n",
       "4            24.0          27.0          22.0          26.0  \n",
       "..            ...           ...           ...           ...  \n",
       "495          22.0           NaN          27.0          29.0  \n",
       "496          24.0          20.0          27.0          23.0  \n",
       "497          23.0          16.0          26.0          25.0  \n",
       "498          27.0          24.0          20.0          23.0  \n",
       "499          17.0          29.0          24.0          24.0  \n",
       "\n",
       "[500 rows x 3000 columns]"
      ]
     },
     "execution_count": 130,
     "metadata": {},
     "output_type": "execute_result"
    }
   ],
   "source": [
    "amostras"
   ]
  },
  {
   "cell_type": "code",
   "execution_count": 131,
   "id": "96fa6b36-2986-4de9-b5c4-9df9d452f065",
   "metadata": {},
   "outputs": [
    {
     "data": {
      "text/plain": [
       "Amostra 1       25.602484\n",
       "Amostra 2       25.962264\n",
       "Amostra 3       25.468750\n",
       "Amostra 4       25.294845\n",
       "Amostra 5       25.592133\n",
       "                  ...    \n",
       "Amostra 2996    25.667360\n",
       "Amostra 2997    25.487500\n",
       "Amostra 2998    25.859794\n",
       "Amostra 2999    25.344468\n",
       "Amostra 3000    25.632017\n",
       "Length: 3000, dtype: float64"
      ]
     },
     "execution_count": 131,
     "metadata": {},
     "output_type": "execute_result"
    }
   ],
   "source": [
    "amostras.mean()"
   ]
  },
  {
   "cell_type": "code",
   "execution_count": 132,
   "id": "d074f40b-6eeb-45cc-b5e1-1840980d6993",
   "metadata": {},
   "outputs": [
    {
     "data": {
      "image/png": "[encoded data removed]",
      "text/plain": [
       "<Figure size 1000x600 with 1 Axes>"
      ]
     },
     "metadata": {},
     "output_type": "display_data"
    }
   ],
   "source": [
    "plt.figure(figsize=(10,6)) \n",
    "plt.hist(amostras.mean(), bins=50, rwidth=0.8)\n",
    "\n",
    "plt.title('Distribuição das médias amostrais das idades', fontweight=1000, fontsize=14, y=1.05)\n",
    "plt.xlabel('Idades')\n",
    "plt.ylabel('Contagem')\n",
    "\n",
    "plt.show()"
   ]
  },
  {
   "cell_type": "code",
   "execution_count": 133,
   "id": "ca7dca9f-6e9e-48d2-a9f9-765538c5bb23",
   "metadata": {},
   "outputs": [
    {
     "name": "stdout",
     "output_type": "stream",
     "text": [
      "Comparação da média e desvio padrão da população e amostras:\n",
      "\n",
      "Média (esperança) da população: 25.556898357297378\n",
      "Média das amostras: 25.556750450499482\n",
      "Desvio padrão da população: 6.393548628877127\n",
      "Desvio padrão das amostras: 6.377729797990067\n",
      "\n",
      "Verificando a afirmação do Teorema do Limite Central:\n",
      "\n",
      "Desvio padrão das médias amostrais: 0.2887406603469982\n",
      "Desvio padrão populacional / Raiz quadrada do tamanho da amostra: 0.28592818703239664\n"
     ]
    }
   ],
   "source": [
    "print(f\"\"\"Comparação da média e desvio padrão da população e amostras:\n",
    "\n",
    "Média (esperança) da população: {esp}\n",
    "Média das amostras: {amostras.mean().mean()}\n",
    "Desvio padrão da população: {math.sqrt(var)}\n",
    "Desvio padrão das amostras: {amostras.std().mean()}\n",
    "\n",
    "Verificando a afirmação do Teorema do Limite Central:\n",
    "\n",
    "Desvio padrão das médias amostrais: {amostras.mean().std()}\n",
    "Desvio padrão populacional / Raiz quadrada do tamanho da amostra: {math.sqrt(var) / math.sqrt(n)}\"\"\")"
   ]
  },
  {
   "cell_type": "code",
   "execution_count": 75,
   "id": "e9cc0047-066e-4943-bd16-a8176b11e297",
   "metadata": {},
   "outputs": [
    {
     "data": {
      "image/png": "[encoded data removed]",
      "text/plain": [
       "<Figure size 1000x600 with 1 Axes>"
      ]
     },
     "metadata": {},
     "output_type": "display_data"
    }
   ],
   "source": [
    "fig, ax = plt.subplots(figsize=(10, 6))\n",
    "\n",
    "stats.probplot(df[\"Age\"].sample(100), plot=ax)\n",
    "\n",
    "plt.title('Teste de normalidade', fontweight=1000, fontsize=14, y=1.05)\n",
    "plt.xlabel('Quantis teóricos')\n",
    "plt.ylabel('Valores ordenados')\n",
    "\n",
    "plt.show()"
   ]
  },
  {
   "cell_type": "code",
   "execution_count": 134,
   "id": "ecb48d74-23f2-4c87-93d0-1503510c2a4d",
   "metadata": {},
   "outputs": [
    {
     "data": {
      "image/png": "[encoded data removed]",
      "text/plain": [
       "<Figure size 1000x600 with 1 Axes>"
      ]
     },
     "metadata": {},
     "output_type": "display_data"
    }
   ],
   "source": [
    "# por algum motivo a reta não aparece sempre,\n",
    "# principalmente quando utilizamos uma maior quantidade de dados nas amostras\n",
    "\n",
    "fig, ax = plt.subplots(figsize=(10, 6))\n",
    "\n",
    "stats.probplot(df[\"Age\"].sample(n), plot=ax)\n",
    "\n",
    "plt.title('Teste de normalidade', fontweight=1000, fontsize=14, y=1.05)\n",
    "plt.xlabel('Quantis teóricos')\n",
    "plt.ylabel('Valores ordenados')\n",
    "\n",
    "plt.show()"
   ]
  },
  {
   "cell_type": "markdown",
   "id": "c7f480cb-2c41-411e-8f48-d2729fdf8273",
   "metadata": {},
   "source": [
    "###"
   ]
  },
  {
   "cell_type": "markdown",
   "id": "5c030222-2f5b-4d30-a7d5-d50553295dbc",
   "metadata": {},
   "source": [
    "__4) No exercício anterior, construir o intervalo de confiança para a média, com nível de confiança de 95% e erro percentual de 2% (para cima ou para baixo).__"
   ]
  },
  {
   "cell_type": "code",
   "execution_count": 144,
   "id": "b084c7c7-9baa-4ef5-a165-aadfe7f81d3b",
   "metadata": {},
   "outputs": [
    {
     "name": "stdout",
     "output_type": "stream",
     "text": [
      "Intervalo de confiança:\n",
      "[24.60 , 26.51]\n"
     ]
    }
   ],
   "source": [
    "desvio_padrao_populacional = math.sqrt(var)\n",
    "media_amostral = amostras.mean().mean()\n",
    "alpha = 0.05\n",
    "Z = stats.norm.ppf(1 - alpha/2)\n",
    "erro = 0.02\n",
    "\n",
    "z_menos = (media_amostral - Z * (desvio_padrao_populacional / math.sqrt(n))) - (media_amostral * erro)\n",
    "z_mais = (media_amostral + Z * (desvio_padrao_populacional / math.sqrt(n))) + (media_amostral * erro)\n",
    "\n",
    "print(\"Intervalo de confiança:\")\n",
    "print(f'[{z_menos:.2f} , {z_mais:.2f}]') "
   ]
  },
  {
   "cell_type": "markdown",
   "id": "6022017a-65f6-4674-b706-6c1dab227153",
   "metadata": {},
   "source": [
    "###"
   ]
  },
  {
   "cell_type": "markdown",
   "id": "392df3d6-08a7-4cdf-9fd5-d7745640f834",
   "metadata": {},
   "source": [
    "__5) Se uma amostra de tamanho 30, vinda da variável aleatória do exercício 2), tiver uma média 10% maior que a média da população, a hipótese de que essas médias são iguais seria rejeitada ou não rejeitada, com um nível de confiança de 95%? (faça o teste de hipótese para responder essa pergunta).__\r\n"
   ]
  },
  {
   "cell_type": "code",
   "execution_count": 79,
   "id": "93705003-66f9-4b4c-88a5-33e3caa36799",
   "metadata": {},
   "outputs": [],
   "source": [
    "def testar_hipotese(atributo: pd.core.series.Series, amostra_tamanho: int, nivel_confianca: float, porcentagem_amostra: float) -> bool:\n",
    "    media = np.mean(atributo)\n",
    "    media_amostra = porcentagem_amostra * media\n",
    "    \n",
    "    std_amostra = np.std(atributo)\n",
    "    \n",
    "    intervalo_confianca = stats.norm.interval(nivel_confianca, loc=media_amostra, scale=std_amostra / np.sqrt(amostra_tamanho))\n",
    "    z_crit = intervalo_confianca[1]\n",
    "    \n",
    "    Xc = media_amostra + (std_amostra / np.sqrt(amostra_tamanho)) * z_crit\n",
    "    \n",
    "    if media >= Xc:\n",
    "        return False\n",
    "    return True"
   ]
  },
  {
   "cell_type": "code",
   "execution_count": 81,
   "id": "39b18aab-b8d3-4b79-8b5f-df53df9c2a5e",
   "metadata": {},
   "outputs": [
    {
     "data": {
      "text/plain": [
       "True"
      ]
     },
     "execution_count": 81,
     "metadata": {},
     "output_type": "execute_result"
    }
   ],
   "source": [
    "testar_hipotese(df[\"Age\"], n, 0.95, 1.1)"
   ]
  }
 ],
 "metadata": {
  "kernelspec": {
   "display_name": "Python 3 (ipykernel)",
   "language": "python",
   "name": "python3"
  },
  "language_info": {
   "codemirror_mode": {
    "name": "ipython",
    "version": 3
   },
   "file_extension": ".py",
   "mimetype": "text/x-python",
   "name": "python",
   "nbconvert_exporter": "python",
   "pygments_lexer": "ipython3",
   "version": "3.12.2"
  }
 },
 "nbformat": 4,
 "nbformat_minor": 5
}
